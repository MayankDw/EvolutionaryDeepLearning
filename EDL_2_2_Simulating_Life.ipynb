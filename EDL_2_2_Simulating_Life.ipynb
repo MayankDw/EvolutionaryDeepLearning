{
  "nbformat": 4,
  "nbformat_minor": 0,
  "metadata": {
    "colab": {
      "name": "EDL_2_2_Simulating_Life.ipynb",
      "provenance": [],
      "include_colab_link": true
    },
    "kernelspec": {
      "name": "python3",
      "display_name": "Python 3"
    },
    "language_info": {
      "name": "python"
    }
  },
  "cells": [
    {
      "cell_type": "markdown",
      "metadata": {
        "id": "view-in-github",
        "colab_type": "text"
      },
      "source": [
        "<a href=\"https://colab.research.google.com/github/MayankDw/EvolutionaryDeepLearning/blob/main/EDL_2_2_Simulating_Life.ipynb\" target=\"_parent\"><img src=\"https://colab.research.google.com/assets/colab-badge.svg\" alt=\"Open In Colab\"/></a>"
      ]
    },
    {
      "cell_type": "markdown",
      "source": [
        "### Simulating Life\n"
      ],
      "metadata": {
        "id": "WXI_ZQveqBLg"
      }
    },
    {
      "cell_type": "code",
      "metadata": {
        "id": "Fhzb2-auwAzl"
      },
      "source": [
        "import random\n",
        "import time\n",
        "import matplotlib.pyplot as plt\n",
        "from IPython.display import clear_output"
      ],
      "execution_count": 1,
      "outputs": []
    },
    {
      "cell_type": "code",
      "metadata": {
        "colab": {
          "base_uri": "https://localhost:8080/"
        },
        "id": "UCWWgjhDSFKY",
        "outputId": "380e45f7-1eb3-4295-8225-5a24cca13ca5"
      },
      "source": [
        "def create_cell():\n",
        "  return dict(health = random.randint(1, 100))\n",
        "\n",
        "def birth(offspring):\n",
        "  return [create_cell() for i in range(offspring)]\n",
        "\n",
        "cells = birth(10)\n",
        "print(cells)"
      ],
      "execution_count": 6,
      "outputs": [
        {
          "output_type": "stream",
          "name": "stdout",
          "text": [
            "[{'health': 22}, {'health': 11}, {'health': 87}, {'health': 76}, {'health': 74}, {'health': 60}, {'health': 6}, {'health': 71}, {'health': 56}, {'health': 13}, {'health': 27}, {'health': 55}, {'health': 66}, {'health': 78}, {'health': 64}, {'health': 45}, {'health': 51}, {'health': 61}, {'health': 26}, {'health': 70}]\n"
          ]
        }
      ]
    },
    {
      "cell_type": "code",
      "metadata": {
        "id": "ViAjsf6PuxFk"
      },
      "source": [
        "RPRD_RATE = 25\n",
        "DEATH_RATE = 25\n",
        "\n",
        "def reproduce(cells):\n",
        "  return [create_cell() for cell in cells if random.randint(1, 100) < RPRD_RATE]\n",
        "\n",
        "def death(cells):\n",
        "  return [cell for cell in cells if random.randint(1, 100) > DEATH_RATE ]\n",
        "\n",
        "def run_generation(cells):\n",
        "  cells.extend(reproduce(cells))\n",
        "  return death(cells)"
      ],
      "execution_count": 7,
      "outputs": []
    },
    {
      "cell_type": "code",
      "metadata": {
        "colab": {
          "base_uri": "https://localhost:8080/",
          "height": 430
        },
        "id": "IL8S79ewzSHT",
        "outputId": "0444d579-cb98-4cca-e0dd-e5e7013e7a17"
      },
      "source": [
        "#@title Simulate the Cells Population Growth\n",
        "generations = 15 #@param {type:\"slider\", min:1, max:25, step:1}\n",
        "initial_offspring = 10 #@param {type:\"slider\", min:10, max:1000, step:1}\n",
        "reproduction_rate = 25 #@param {type:\"slider\", min:1, max:100, step:1}\n",
        "death_rate = 30 #@param {type:\"slider\", min:1, max:100, step:1}\n",
        "\n",
        "RPRD_RATE = reproduction_rate\n",
        "DEATH_RATE = death_rate\n",
        "cells = birth(initial_offspring)\n",
        "\n",
        "history = []\n",
        "for i in range(generations):\n",
        "  cells = run_generation(cells)\n",
        "  history.append(len(cells))\n",
        "  clear_output()\n",
        "  plt.plot(history)\n",
        "  plt.show()\n",
        "  time.sleep(1)\n",
        ""
      ],
      "execution_count": 10,
      "outputs": [
        {
          "output_type": "display_data",
          "data": {
            "text/plain": [
              "<Figure size 640x480 with 1 Axes>"
            ],
            "image/png": "[encoded data removed]"
          },
          "metadata": {}
        }
      ]
    },
    {
      "cell_type": "code",
      "source": [],
      "metadata": {
        "id": "hksE2AQLrebe"
      },
      "execution_count": null,
      "outputs": []
    }
  ]
}