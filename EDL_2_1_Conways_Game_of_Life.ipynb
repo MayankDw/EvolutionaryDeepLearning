{
  "nbformat": 4,
  "nbformat_minor": 0,
  "metadata": {
    "colab": {
      "name": "EDL_2_1_Conways_Game_of_Life.ipynb",
      "provenance": [],
      "include_colab_link": true
    },
    "kernelspec": {
      "name": "python3",
      "display_name": "Python 3"
    }
  },
  "cells": [
    {
      "cell_type": "markdown",
      "metadata": {
        "id": "view-in-github",
        "colab_type": "text"
      },
      "source": [
        "<a href=\"https://colab.research.google.com/github/MayankDw/EvolutionaryDeepLearning/blob/main/EDL_2_1_Conways_Game_of_Life.ipynb\" target=\"_parent\"><img src=\"https://colab.research.google.com/assets/colab-badge.svg\" alt=\"Open In Colab\"/></a>"
      ]
    },
    {
      "cell_type": "markdown",
      "metadata": {
        "id": "3kx306Bhgec5"
      },
      "source": [
        "Setup for rendering output to a video file."
      ]
    },
    {
      "cell_type": "code",
      "metadata": {
        "id": "y7Im8djVd8hA"
      },
      "source": [
        "import glob\n",
        "import io\n",
        "import base64\n",
        "from IPython.display import HTML\n",
        "from IPython import display as ipythondisplay\n",
        "import matplotlib.pyplot as plt\n",
        "def show_video():\n",
        "  mp4list = glob.glob('*.mp4')\n",
        "  if len(mp4list) > 0:\n",
        "    mp4 = mp4list[0]\n",
        "    video = io.open(mp4, 'r+b').read()\n",
        "    encoded = base64.b64encode(video)\n",
        "    ipythondisplay.display(HTML(data='''<video alt=\"test\" autoplay\n",
        "                loop controls style=\"height: 400px;\">\n",
        "                <source src=\"data:video/mp4;base64,{0}\" type=\"video/mp4\" />\n",
        "             </video>'''.format(encoded.decode('ascii'))))\n",
        "  else:\n",
        "    print(\"Could not find video\")\n"
      ],
      "execution_count": null,
      "outputs": []
    },
    {
      "cell_type": "markdown",
      "metadata": {
        "id": "n2lfq6o6gkeu"
      },
      "source": [
        "The single function for the Game of Life"
      ]
    },
    {
      "cell_type": "code",
      "metadata": {
        "id": "uuGn1aOTdGg_"
      },
      "source": [
        "import numpy as np\n",
        "import tqdm.notebook as nb\n",
        "\n",
        "def life(X, steps):\n",
        "    \"\"\"\n",
        "     Conway's Game of Life.\n",
        "     - X, matrix with the initial state of the game.\n",
        "     - steps, number of generations.\n",
        "     - original source from https://dzone.com/articles/game-of-life-with-python-1\n",
        "    \"\"\"\n",
        "    def roll_it(x, y):\n",
        "        # rolls the matrix X in a given direction\n",
        "        # x=1, y=0 on the left;  x=-1, y=0 right;\n",
        "        # x=0, y=1 top; x=0, y=-1 down; x=1, y=1 top left; ...\n",
        "        return np.roll(np.roll(X, y, axis=0), x, axis=1)\n",
        "    for _ in range(steps):\n",
        "        # count the number of neighbours\n",
        "        # the universe is considered toroidal\n",
        "        Y = roll_it(1, 0) + roll_it(0, 1) + roll_it(-1, 0) \\\n",
        "            + roll_it(0, -1) + roll_it(1, 1) + roll_it(-1, -1) \\\n",
        "            + roll_it(1, -1) + roll_it(-1, 1)\n",
        "        # game of life rules\n",
        "        X = np.logical_or(np.logical_and(X, Y ==2), Y==3)\n",
        "        X = X.astype(int)\n",
        "        yield X"
      ],
      "execution_count": null,
      "outputs": []
    },
    {
      "cell_type": "markdown",
      "metadata": {
        "id": "RT7ohzZhgqgW"
      },
      "source": [
        "Creating our starting environment/map"
      ]
    },
    {
      "cell_type": "code",
      "metadata": {
        "id": "iO6n3wwSdHnR"
      },
      "source": [
        "X = np.zeros((40, 40)) # 40 by 40 dead cells\n",
        "# R-pentomino\n",
        "X[23, 22:24] = 1\n",
        "X[24, 21:23] = 1\n",
        "X[25, 22] = 1\n",
        "plt.imshow(X)\n",
        "plt.show()"
      ],
      "execution_count": null,
      "outputs": []
    },
    {
      "cell_type": "markdown",
      "metadata": {
        "id": "1h3R72v8guio"
      },
      "source": [
        "Creating the video renderer and then playing the game..."
      ]
    },
    {
      "cell_type": "code",
      "metadata": {
        "id": "OlkzbB6qdTIh"
      },
      "source": [
        "from matplotlib import pyplot as plt\n",
        "import matplotlib.animation as manimation\n",
        "\n",
        "FFMpegWriter = manimation.writers['ffmpeg']\n",
        "metadata = dict(title='Game of life', artist='JustGlowing')\n",
        "writer = FFMpegWriter(fps=10, metadata=metadata)\n",
        "fig = plt.figure()\n",
        "fig.patch.set_facecolor('black')\n",
        "with writer.saving(fig, \"game_of_life.mp4\", 200):\n",
        "    plt.spy(X)\n",
        "    plt.axis('off')\n",
        "    writer.grab_frame()\n",
        "    plt.clf()\n",
        "    for x in nb.tqdm(life(X, 800),total=800):\n",
        "        plt.spy(x)\n",
        "        plt.axis('off')\n",
        "        writer.grab_frame()\n",
        "        plt.clf()"
      ],
      "execution_count": null,
      "outputs": []
    },
    {
      "cell_type": "markdown",
      "metadata": {
        "id": "Ds3B811mg1WG"
      },
      "source": [
        "Displaying the output results as a video"
      ]
    },
    {
      "cell_type": "code",
      "metadata": {
        "id": "9Ci9wlpneVfm"
      },
      "source": [
        "show_video()"
      ],
      "execution_count": null,
      "outputs": []
    }
  ]
}